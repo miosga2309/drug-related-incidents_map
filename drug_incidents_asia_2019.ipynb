{
 "cells": [
  {
   "cell_type": "code",
   "execution_count": 2,
   "metadata": {},
   "outputs": [],
   "source": [
    "import folium\n",
    "import pandas\n",
    "import folium.plugins as plugins\n",
    "from ipywidgets import interact"
   ]
  },
  {
   "cell_type": "code",
   "execution_count": 3,
   "metadata": {},
   "outputs": [],
   "source": [
    "df1 = pandas.read_excel(\"Asia_2010-2019_Sep28.xlsx\")"
   ]
  },
  {
   "cell_type": "code",
   "execution_count": 4,
   "metadata": {},
   "outputs": [],
   "source": [
    "# extract drug-related events, year 2019\n",
    "df_drug = df1.filter([\"LATITUDE\", \n",
    "                      \"LONGITUDE\", \n",
    "                      \"NOTES\", \n",
    "                      \"FATALITIES\", \n",
    "                      \"YEAR\"])[df1.NOTES.str.contains(\"\\Wdrug\\W\", regex=True)]\n",
    "df_drug = df_drug[df_drug.YEAR == 2018]"
   ]
  },
  {
   "cell_type": "code",
   "execution_count": 5,
   "metadata": {},
   "outputs": [],
   "source": [
    "tiles = [name.strip() for name in \"\"\"\n",
    "    OpenStreetMap\n",
    "    Stamen Terrain\n",
    "    Stamen Toner\n",
    "    Stamen Watercolor\n",
    "    CartoDB positron\n",
    "    CartoDB dark_matter\"\"\".strip().split('\\n')]"
   ]
  },
  {
   "cell_type": "code",
   "execution_count": 6,
   "metadata": {
    "scrolled": false
   },
   "outputs": [
    {
     "data": {
      "application/vnd.jupyter.widget-view+json": {
       "model_id": "88f1a1e02e7a4e7fa6c7626a796a957c",
       "version_major": 2,
       "version_minor": 0
      },
      "text/plain": [
       "interactive(children=(IntSlider(value=2019, description='years', max=2019, min=2016), Output()), _dom_classes=…"
      ]
     },
     "metadata": {},
     "output_type": "display_data"
    }
   ],
   "source": [
    "@interact(years=(2016, 2019))\n",
    "def create_map(years=2019):\n",
    "    '''\n",
    "    Creation of map embedded in interact function of the ipywidgets module.\n",
    "    Efficiency is a big issue in this implementation since the datasets have \n",
    "    to be generated every time the year in the dashboard is changed.\n",
    "    '''\n",
    "    # data extraction\n",
    "    df_drug = df1.filter([\"LATITUDE\", \n",
    "                      \"LONGITUDE\", \n",
    "                      \"NOTES\", \n",
    "                      \"FATALITIES\", \n",
    "                      \"YEAR\"])[df1.NOTES.str.contains(\"\\Wdrug\\W\", regex=True)]\n",
    "    df_drug = df_drug[df_drug.YEAR == years]\n",
    "    # map initialization \n",
    "    mymap = folium.Map([21.348317, 88.602014], zoom_start=4)\n",
    "    # feature group initialization\n",
    "    fg_no_fatalities = folium.FeatureGroup(name='No Fatalities')\n",
    "    fg_fatalities = folium.FeatureGroup(name='Fatalities')\n",
    "    # marker cluster init\n",
    "    marker_cluster_no_f = plugins.MarkerCluster()\n",
    "    marker_cluster_f = plugins.MarkerCluster()\n",
    "    # fill the marker cluster with circlemarker which are present when zooming into cluster\n",
    "    for row in df_drug.iterrows():\n",
    "        if row[1][3] == 0:\n",
    "            marker_no_f = folium.CircleMarker(location=(row[1][0], row[1][1]),popup=row[1][2], \n",
    "                                              color=\"#007849\", radius= 4)\n",
    "            marker_cluster_no_f.add_child(marker_no_f) # no fatalities: green circle marker\n",
    "        else:\n",
    "            marker_f = folium.CircleMarker(location=(row[1][0], row[1][1]),popup=row[1][2], \n",
    "                                              color=\"#FF252B\", radius= 4+row[1][3])\n",
    "            marker_cluster_f.add_child(marker_f) # fatalities: red cluster marker\n",
    "    # add everything to feature group and feature groups to map\n",
    "    fg_no_fatalities.add_child(marker_cluster_no_f)\n",
    "    fg_fatalities.add_child(marker_cluster_f)\n",
    "    mymap.add_child(fg_no_fatalities)\n",
    "    mymap.add_child(fg_fatalities)\n",
    "    return mymap"
   ]
  },
  {
   "cell_type": "code",
   "execution_count": 7,
   "metadata": {},
   "outputs": [],
   "source": [
    "mymap = folium.Map([21.348317, 88.602014], zoom_start = 4)\n",
    "\n",
    "fg_no_fatalities = folium.FeatureGroup(name='No Fatalities')\n",
    "fg_fatalities = folium.FeatureGroup(name='Fatalities')"
   ]
  },
  {
   "cell_type": "code",
   "execution_count": 8,
   "metadata": {},
   "outputs": [],
   "source": [
    "marker_cluster_no_f = plugins.MarkerCluster()\n",
    "marker_cluster_f = plugins.MarkerCluster()\n",
    "for row in df_drug.iterrows():\n",
    "    if row[1][3] == 0:\n",
    "        marker_no_f = folium.CircleMarker(location=(row[1][0], row[1][1]),popup=row[1][2], \n",
    "                                          color=\"#007849\", radius= 4)\n",
    "        marker_cluster_no_f.add_child(marker_no_f)\n",
    "    else:\n",
    "        marker_f = folium.CircleMarker(location=(row[1][0], row[1][1]),popup=row[1][2], \n",
    "                                          color=\"#FF252B\", radius= 4+row[1][3])\n",
    "        marker_cluster_f.add_child(marker_f)"
   ]
  },
  {
   "cell_type": "code",
   "execution_count": 9,
   "metadata": {},
   "outputs": [
    {
     "data": {
      "text/plain": [
       "<folium.map.FeatureGroup at 0x123245290>"
      ]
     },
     "execution_count": 9,
     "metadata": {},
     "output_type": "execute_result"
    }
   ],
   "source": [
    "fg_no_fatalities.add_child(marker_cluster_no_f)\n",
    "fg_fatalities.add_child(marker_cluster_f)"
   ]
  },
  {
   "cell_type": "code",
   "execution_count": 10,
   "metadata": {},
   "outputs": [],
   "source": [
    "#mymap.add_child(fg_no_fatalities)\n",
    "#mymap.add_child(fg_fatalities)"
   ]
  }
 ],
 "metadata": {
  "kernelspec": {
   "display_name": "Python 3",
   "language": "python",
   "name": "python3"
  },
  "language_info": {
   "codemirror_mode": {
    "name": "ipython",
    "version": 3
   },
   "file_extension": ".py",
   "mimetype": "text/x-python",
   "name": "python",
   "nbconvert_exporter": "python",
   "pygments_lexer": "ipython3",
   "version": "3.7.4"
  }
 },
 "nbformat": 4,
 "nbformat_minor": 2
}
